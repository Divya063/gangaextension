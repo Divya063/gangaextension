{
 "cells": [
  {
   "cell_type": "code",
   "execution_count": 2,
   "metadata": {},
   "outputs": [],
   "source": [
    "%%ganga --save script.py\n",
    "#!/usr/bin/python\n",
    "\n",
    "import requests\n",
    "import re, os, sys\n",
    "\n",
    "urls = sys.argv[1:]\n",
    "\n",
    "for url in urls:\n",
    "    req = requests.get(url)\n",
    "    text = req.text\n",
    "\n",
    "    word1 = 'island'\n",
    "    word2 = 'islands'\n",
    "\n",
    "    count1 = sum(1 for found in re.finditer(r'\\b%s\\b' % word1, text, re.I))\n",
    "    count2 = sum(1 for found in re.finditer(r'\\b%s\\b' % word2, text, re.I))\n",
    "\n",
    "    f = open('islands.txt', 'a')\n",
    "    f.write('{} {} {} {} {} \\n'.format(url, word1, count1, word2, count2))\n",
    "    f.close()"
   ]
  },
  {
   "cell_type": "code",
   "execution_count": 3,
   "metadata": {},
   "outputs": [],
   "source": [
    "%%ganga --save urls.txt\n",
    "http://www.gutenberg.org/files/521/521-0.txt\n",
    "http://www.independentri.com/local/article_89ad9600-135d-5847-8b82-fade8b3abfb8.html\n",
    "http://www.independentri.com/local/article_f2992241-e9ba-5e0d-b1df-230166ef54b0.html\n",
    "http://www.carolinacoastonline.com/tideland_news/news/article_f6ed079f-4713-5956-b831-862308e820e4.html"
   ]
  },
  {
   "cell_type": "code",
   "execution_count": 4,
   "metadata": {},
   "outputs": [],
   "source": [
    "%%ganga\n",
    "j = ganga.Job()\n",
    "j.application.exe = ganga.File(\"script.py\")\n",
    "j.name = \"Island Count\"\n",
    "j.backend = ganga.Local()\n",
    "urls = []\n",
    "with open('urls.txt') as url_file:\n",
    "    for url in url_file:\n",
    "        urls.append(url)\n",
    "j.splitter = ganga.GenericSplitter()\n",
    "j.splitter.attribute = 'application.args'\n",
    "j.splitter.values = urls\n",
    "j.submit()"
   ]
  }
 ],
 "metadata": {
  "kernelspec": {
   "display_name": "Python 2",
   "language": "python",
   "name": "python2"
  },
  "language_info": {
   "codemirror_mode": {
    "name": "ipython",
    "version": 2
   },
   "file_extension": ".py",
   "mimetype": "text/x-python",
   "name": "python",
   "nbconvert_exporter": "python",
   "pygments_lexer": "ipython2",
   "version": "2.7.15rc1"
  }
 },
 "nbformat": 4,
 "nbformat_minor": 2
}
