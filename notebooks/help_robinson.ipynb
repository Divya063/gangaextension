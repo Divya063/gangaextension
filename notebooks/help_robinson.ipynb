{
 "cells": [
  {
   "cell_type": "code",
   "execution_count": 1,
   "metadata": {},
   "outputs": [],
   "source": [
    "urls = [\n",
    "    'http://www.gutenberg.org/files/521/521-0.txt',\n",
    "    'http://www.independentri.com/local/article_89ad9600-135d-5847-8b82-fade8b3abfb8.html',\n",
    "    'http://www.independentri.com/local/article_f2992241-e9ba-5e0d-b1df-230166ef54b0.html',\n",
    "    'http://www.carolinacoastonline.com/tideland_news/news/article_f6ed079f-4713-5956-b831-862308e820e4.html'\n",
    "]"
   ]
  },
  {
   "cell_type": "code",
   "execution_count": 2,
   "metadata": {},
   "outputs": [],
   "source": [
    "%%ganga\n",
    "j = ganga.Job()\n",
    "j.application.exe = ganga.File(\"script.py\")\n",
    "j.name = \"Island Count\"\n",
    "j.backend = ganga.Local()\n",
    "j.splitter = ganga.GenericSplitter()\n",
    "j.splitter.attribute = \"application.args\"\n",
    "j.splitter.values = urls\n",
    "j.submit()"
   ]
  }
 ],
 "metadata": {
  "kernelspec": {
   "display_name": "Python 2",
   "language": "python",
   "name": "python2"
  },
  "language_info": {
   "codemirror_mode": {
    "name": "ipython",
    "version": 2
   },
   "file_extension": ".py",
   "mimetype": "text/x-python",
   "name": "python",
   "nbconvert_exporter": "python",
   "pygments_lexer": "ipython2",
   "version": "2.7.15rc1"
  }
 },
 "nbformat": 4,
 "nbformat_minor": 2
}
