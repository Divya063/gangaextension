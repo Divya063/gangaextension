{
 "cells": [
  {
   "cell_type": "code",
   "execution_count": 1,
   "metadata": {},
   "outputs": [],
   "source": [
    "%%ganga\n",
    "j = ganga.Job()\n",
    "j.application.exe = ganga.File(\"script.py\")\n",
    "j.name = \"Island Count\"\n",
    "j.backend = ganga.Local()\n",
    "urls = []\n",
    "with open('urls.txt') as url_file:\n",
    "    for url in url_file:\n",
    "        urls.append(url)\n",
    "j.splitter = ganga.GenericSplitter()\n",
    "j.splitter.attribute = 'application.args'\n",
    "j.splitter.values = urls\n",
    "j.submit()"
   ]
  },
  {
   "cell_type": "code",
   "execution_count": null,
   "metadata": {},
   "outputs": [],
   "source": []
  }
 ],
 "metadata": {
  "kernelspec": {
   "display_name": "Python 2",
   "language": "python",
   "name": "python2"
  },
  "language_info": {
   "codemirror_mode": {
    "name": "ipython",
    "version": 2
   },
   "file_extension": ".py",
   "mimetype": "text/x-python",
   "name": "python",
   "nbconvert_exporter": "python",
   "pygments_lexer": "ipython2",
   "version": "2.7.15rc1"
  }
 },
 "nbformat": 4,
 "nbformat_minor": 2
}
